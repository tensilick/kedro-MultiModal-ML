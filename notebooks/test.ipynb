
{
 "cells": [
  {
   "cell_type": "code",
   "execution_count": 2,
   "metadata": {},
   "outputs": [
    {
     "name": "stdout",
     "output_type": "stream",
     "text": [
      "2023-01-04 16:10:10,249 - kedro.ipython - INFO - Resolved project path as: /home/M267492/kedro-multimodal.\n",
      "To set a different path, run '%reload_kedro <project_root>'\n",
      "2023-01-04 16:10:10,736 - py.warnings - WARNING - /home/M267492/venv/kedro/lib/python3.8/site-packages/kedro/framework/context/context.py:339: UserWarning: Credentials not found in your Kedro project config.\n",
      "No files found in ['/home/M267492/kedro-multimodal/conf/base', '/home/M267492/kedro-multimodal/conf/local'] matching the glob pattern(s): ['credentials*', 'credentials*/**', '**/credentials*']\n",
      "  warn(f\"Credentials not found in your Kedro project config.\\n{str(exc)}\")\n",
      "\n",
      "2023-01-04 16:10:10,745 - kedro.ipython - INFO - Kedro project Kedro TF Multimodal\n",
      "2023-01-04 16:10:10,746 - kedro.ipython - INFO - Defined global variable 'context', 'session', 'catalog' and 'pipelines'\n"
     ]
    }
   ],
   "source": [
    "%load_ext kedro.ipython"
   ]
  },
  {
   "cell_type": "code",
   "execution_count": 3,
   "metadata": {},
   "outputs": [
    {
     "name": "stdout",
     "output_type": "stream",
     "text": [
      "2023-01-04 16:10:48,496 - kedro.ipython - INFO - Resolved project path as: /home/M267492/kedro-multimodal.\n",
      "To set a different path, run '%reload_kedro <project_root>'\n",
      "2023-01-04 16:10:48,735 - py.warnings - WARNING - /home/M267492/venv/kedro/lib/python3.8/site-packages/kedro/framework/context/context.py:339: UserWarning: Credentials not found in your Kedro project config.\n",
      "No files found in ['/home/M267492/kedro-multimodal/conf/base', '/home/M267492/kedro-multimodal/conf/local'] matching the glob pattern(s): ['credentials*', 'credentials*/**', '**/credentials*']\n",
      "  warn(f\"Credentials not found in your Kedro project config.\\n{str(exc)}\")\n",
      "\n",
      "2023-01-04 16:10:48,744 - kedro.ipython - INFO - Kedro project Kedro TF Multimodal\n",
      "2023-01-04 16:10:48,745 - kedro.ipython - INFO - Defined global variable 'context', 'session', 'catalog' and 'pipelines'\n"
     ]
    },
    {
     "data": {
      "text/html": [
       "<pre style=\"white-space:pre;overflow-x:auto;line-height:normal;font-family:Menlo,'DejaVu Sans Mono',consolas,'Courier New',monospace\">\n",
       "<span style=\"font-weight: bold\">[</span>\n",
       "    <span style=\"color: #008000; text-decoration-color: #008000\">'text_data'</span>,\n",
       "    <span style=\"color: #008000; text-decoration-color: #008000\">'tabular_model_saved'</span>,\n",
       "    <span style=\"color: #008000; text-decoration-color: #008000\">'image_data'</span>,\n",